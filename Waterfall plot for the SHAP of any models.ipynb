{
 "cells": [
  {
   "cell_type": "markdown",
   "metadata": {},
   "source": [
    "## The Waterfall Plots for SHAP Values of Any Models\n",
    "\n",
    "* Please read [Explain your model with the SHAP values](https://towardsdatascience.com/explain-your-model-with-the-shap-values-bc36aac4de3d) and [The SHAP with More Elegant Charts](https://dataman-ai.medium.com/the-shap-with-more-elegant-charts-bc3e73fa1c0c)\n",
    "\n",
    "### Table of Contents\n",
    "* [Section 1: Matplotlib](#section1)\n",
    "    * [Section 1.1: Random forest](#section11)\n",
    "    * [Section 1.2: XGB](sSection12)\n",
    "* [Section 2: Plotly](#section2)\n",
    "    * [Section 2.1: Random forest](#section21)\n",
    "    * [Section 2.2: XGB](#section22)"
   ]
  },
  {
   "cell_type": "code",
   "execution_count": 21,
   "metadata": {},
   "outputs": [
    {
     "data": {
      "text/html": [
       "<div>\n",
       "<style scoped>\n",
       "    .dataframe tbody tr th:only-of-type {\n",
       "        vertical-align: middle;\n",
       "    }\n",
       "\n",
       "    .dataframe tbody tr th {\n",
       "        vertical-align: top;\n",
       "    }\n",
       "\n",
       "    .dataframe thead th {\n",
       "        text-align: right;\n",
       "    }\n",
       "</style>\n",
       "<table border=\"1\" class=\"dataframe\">\n",
       "  <thead>\n",
       "    <tr style=\"text-align: right;\">\n",
       "      <th></th>\n",
       "      <th>fixed acidity</th>\n",
       "      <th>volatile acidity</th>\n",
       "      <th>citric acid</th>\n",
       "      <th>residual sugar</th>\n",
       "      <th>chlorides</th>\n",
       "      <th>free sulfur dioxide</th>\n",
       "      <th>total sulfur dioxide</th>\n",
       "      <th>density</th>\n",
       "      <th>pH</th>\n",
       "      <th>sulphates</th>\n",
       "      <th>alcohol</th>\n",
       "      <th>quality</th>\n",
       "    </tr>\n",
       "  </thead>\n",
       "  <tbody>\n",
       "    <tr>\n",
       "      <th>0</th>\n",
       "      <td>7.4</td>\n",
       "      <td>0.70</td>\n",
       "      <td>0.00</td>\n",
       "      <td>1.9</td>\n",
       "      <td>0.076</td>\n",
       "      <td>11.0</td>\n",
       "      <td>34.0</td>\n",
       "      <td>0.9978</td>\n",
       "      <td>3.51</td>\n",
       "      <td>0.56</td>\n",
       "      <td>9.4</td>\n",
       "      <td>5</td>\n",
       "    </tr>\n",
       "    <tr>\n",
       "      <th>1</th>\n",
       "      <td>7.8</td>\n",
       "      <td>0.88</td>\n",
       "      <td>0.00</td>\n",
       "      <td>2.6</td>\n",
       "      <td>0.098</td>\n",
       "      <td>25.0</td>\n",
       "      <td>67.0</td>\n",
       "      <td>0.9968</td>\n",
       "      <td>3.20</td>\n",
       "      <td>0.68</td>\n",
       "      <td>9.8</td>\n",
       "      <td>5</td>\n",
       "    </tr>\n",
       "    <tr>\n",
       "      <th>2</th>\n",
       "      <td>7.8</td>\n",
       "      <td>0.76</td>\n",
       "      <td>0.04</td>\n",
       "      <td>2.3</td>\n",
       "      <td>0.092</td>\n",
       "      <td>15.0</td>\n",
       "      <td>54.0</td>\n",
       "      <td>0.9970</td>\n",
       "      <td>3.26</td>\n",
       "      <td>0.65</td>\n",
       "      <td>9.8</td>\n",
       "      <td>5</td>\n",
       "    </tr>\n",
       "    <tr>\n",
       "      <th>3</th>\n",
       "      <td>11.2</td>\n",
       "      <td>0.28</td>\n",
       "      <td>0.56</td>\n",
       "      <td>1.9</td>\n",
       "      <td>0.075</td>\n",
       "      <td>17.0</td>\n",
       "      <td>60.0</td>\n",
       "      <td>0.9980</td>\n",
       "      <td>3.16</td>\n",
       "      <td>0.58</td>\n",
       "      <td>9.8</td>\n",
       "      <td>6</td>\n",
       "    </tr>\n",
       "    <tr>\n",
       "      <th>4</th>\n",
       "      <td>7.4</td>\n",
       "      <td>0.70</td>\n",
       "      <td>0.00</td>\n",
       "      <td>1.9</td>\n",
       "      <td>0.076</td>\n",
       "      <td>11.0</td>\n",
       "      <td>34.0</td>\n",
       "      <td>0.9978</td>\n",
       "      <td>3.51</td>\n",
       "      <td>0.56</td>\n",
       "      <td>9.4</td>\n",
       "      <td>5</td>\n",
       "    </tr>\n",
       "  </tbody>\n",
       "</table>\n",
       "</div>"
      ],
      "text/plain": [
       "   fixed acidity  volatile acidity  citric acid  residual sugar  chlorides  \\\n",
       "0            7.4              0.70         0.00             1.9      0.076   \n",
       "1            7.8              0.88         0.00             2.6      0.098   \n",
       "2            7.8              0.76         0.04             2.3      0.092   \n",
       "3           11.2              0.28         0.56             1.9      0.075   \n",
       "4            7.4              0.70         0.00             1.9      0.076   \n",
       "\n",
       "   free sulfur dioxide  total sulfur dioxide  density    pH  sulphates  \\\n",
       "0                 11.0                  34.0   0.9978  3.51       0.56   \n",
       "1                 25.0                  67.0   0.9968  3.20       0.68   \n",
       "2                 15.0                  54.0   0.9970  3.26       0.65   \n",
       "3                 17.0                  60.0   0.9980  3.16       0.58   \n",
       "4                 11.0                  34.0   0.9978  3.51       0.56   \n",
       "\n",
       "   alcohol  quality  \n",
       "0      9.4        5  \n",
       "1      9.8        5  \n",
       "2      9.8        5  \n",
       "3      9.8        6  \n",
       "4      9.4        5  "
      ]
     },
     "execution_count": 21,
     "metadata": {},
     "output_type": "execute_result"
    }
   ],
   "source": [
    "from sklearn.model_selection import train_test_split\n",
    "import shap\n",
    "import pandas as pd\n",
    "import numpy as np\n",
    "import matplotlib.pyplot as plt\n",
    "import xgboost as xgb\n",
    "from sklearn.ensemble import RandomForestRegressor\n",
    "from sklearn.ensemble import GradientBoostingClassifier\n",
    "import xgboost as xgb\n",
    "\n",
    "df = pd.read_csv('/winequality-red.csv')\n",
    "\n",
    "features = ['fixed acidity', 'volatile acidity', 'citric acid', 'residual sugar', 'chlorides', \n",
    "            'free sulfur dioxide', 'total sulfur dioxide', 'density', 'pH', 'sulphates', 'alcohol']\n",
    "Y = np.where(df['quality']>6,1,0)\n",
    "X =  df[features]\n",
    "X_train, X_test, Y_train, Y_test = train_test_split(X, Y, test_size = 0.2, random_state = 1234)\n",
    "df['quality'] = df['quality'].astype(int)\n",
    "df.head()"
   ]
  },
  {
   "cell_type": "code",
   "execution_count": 22,
   "metadata": {},
   "outputs": [
    {
     "data": {
      "text/plain": [
       "<AxesSubplot:>"
      ]
     },
     "execution_count": 22,
     "metadata": {},
     "output_type": "execute_result"
    },
    {
     "data": {
      "image/png": "[encoded data removed]",
      "text/plain": [
       "<Figure size 432x288 with 1 Axes>"
      ]
     },
     "metadata": {
      "needs_background": "light"
     },
     "output_type": "display_data"
    }
   ],
   "source": [
    "df['quality'].hist()"
   ]
  },
  {
   "cell_type": "markdown",
   "metadata": {},
   "source": [
    "## (1) Matplotlib <a class=\"anchor\" id=\"section1\"></a>\n",
    "\n",
    "### (1.1) Random forest <a class=\"anchor\" id=\"section11\"></a>\n",
    "\n"
   ]
  },
  {
   "cell_type": "code",
   "execution_count": 23,
   "metadata": {},
   "outputs": [
    {
     "data": {
      "text/plain": [
       "0.6940550067343673"
      ]
     },
     "execution_count": 23,
     "metadata": {},
     "output_type": "execute_result"
    }
   ],
   "source": [
    "# Build the model with the random forest regression algorithm:\n",
    "rf_model = RandomForestRegressor(max_depth=6, random_state=0, n_estimators=10)\n",
    "rf_model.fit(X_train, Y_train).score(X_train,Y_train)"
   ]
  },
  {
   "cell_type": "code",
   "execution_count": 24,
   "metadata": {},
   "outputs": [],
   "source": [
    "rf_model_explainer = shap.TreeExplainer(rf_model)\n",
    "rf_shap_values = rf_model_explainer.shap_values(X_test)\n",
    "base_value = Y_train.mean()\n",
    "Y_pred_prob = rf_model.predict(X_test)\n",
    "Y_pred = np.where(Y_pred_prob>base_value,1,0)"
   ]
  },
  {
   "cell_type": "markdown",
   "metadata": {},
   "source": [
    "### (1.2) Waterfall plot  <a class=\"anchor\" id=\"section12\"></a>"
   ]
  },
  {
   "cell_type": "code",
   "execution_count": 25,
   "metadata": {},
   "outputs": [],
   "source": [
    "def obs_to_explain(data,shap_values, base_value,green_color ='#29EA38' , red_color = '#FB3C62',n=8):\n",
    "    '''\n",
    "      - data: the observation. It is a Pandas series. The index contains the variable names \n",
    "      - shap_values: the shap_values for the above observation \n",
    "      - base_value: the base_value, which is the expected value or the mean of the target value of the training set\n",
    "      - green_color: the color for the up bar\n",
    "      - red_color: the color for the down bar\n",
    "      - for_plot: a sorted data frame by the absolute value of shape in descending order\n",
    "      - n: show the top n (default) variables. The rest variables are summed up into \"others\"\n",
    "    '''\n",
    "    for_plot = pd.DataFrame({'data':np.round(data,2),\n",
    "                             'shap':shap_values,\n",
    "                             'shap_abs': np.abs(shap_values),\n",
    "                             'label': data.index\n",
    "                            })\n",
    "    for_plot = for_plot.sort_values(by='shap_abs',ascending=False)\n",
    "\n",
    "    # Split the variables into n and the rest. Only show the top n\n",
    "    for_plot1 = for_plot.iloc[0:n,:]\n",
    "    for_plot2 = for_plot.iloc[n:,:]\n",
    "\n",
    "    # Sum up the rest as 'others'\n",
    "    rest = pd.DataFrame({'data': '','shap':for_plot2['shap'].sum(), 'label': 'Others'},index=['others'])\n",
    "    for_plot = for_plot1.append(rest)\n",
    "    \n",
    "    # Sum up the rest into 'others'\n",
    "    base = pd.DataFrame({'data': np.round(base_value,2),'shap':base_value, 'label': 'Base value'},index=['base_value'])\n",
    "    for_plot = base.append(for_plot)\n",
    "\n",
    "    for_plot['blank'] = for_plot['shap'].cumsum().shift(1).fillna(0) # +  base_value\n",
    "    for_plot['label'] = + for_plot['label'] + \" =\" + for_plot['data'].map(str) \n",
    "    for_plot['color'] = np.where(for_plot['shap']>0,green_color,red_color)\n",
    "    for_plot = for_plot.drop(['data','shap_abs'],axis=1)\n",
    "    return(for_plot )  \n"
   ]
  },
  {
   "cell_type": "code",
   "execution_count": 26,
   "metadata": {},
   "outputs": [
    {
     "data": {
      "text/html": [
       "<div>\n",
       "<style scoped>\n",
       "    .dataframe tbody tr th:only-of-type {\n",
       "        vertical-align: middle;\n",
       "    }\n",
       "\n",
       "    .dataframe tbody tr th {\n",
       "        vertical-align: top;\n",
       "    }\n",
       "\n",
       "    .dataframe thead th {\n",
       "        text-align: right;\n",
       "    }\n",
       "</style>\n",
       "<table border=\"1\" class=\"dataframe\">\n",
       "  <thead>\n",
       "    <tr style=\"text-align: right;\">\n",
       "      <th></th>\n",
       "      <th>shap</th>\n",
       "      <th>label</th>\n",
       "      <th>blank</th>\n",
       "      <th>color</th>\n",
       "    </tr>\n",
       "  </thead>\n",
       "  <tbody>\n",
       "    <tr>\n",
       "      <th>base_value</th>\n",
       "      <td>0.137608</td>\n",
       "      <td>Base value =0.14</td>\n",
       "      <td>0.000000</td>\n",
       "      <td>#29EA38</td>\n",
       "    </tr>\n",
       "    <tr>\n",
       "      <th>alcohol</th>\n",
       "      <td>-0.055662</td>\n",
       "      <td>alcohol =9.5</td>\n",
       "      <td>0.137608</td>\n",
       "      <td>#FB3C62</td>\n",
       "    </tr>\n",
       "    <tr>\n",
       "      <th>total sulfur dioxide</th>\n",
       "      <td>-0.036046</td>\n",
       "      <td>total sulfur dioxide =81.0</td>\n",
       "      <td>0.081945</td>\n",
       "      <td>#FB3C62</td>\n",
       "    </tr>\n",
       "    <tr>\n",
       "      <th>sulphates</th>\n",
       "      <td>-0.022881</td>\n",
       "      <td>sulphates =0.54</td>\n",
       "      <td>0.045899</td>\n",
       "      <td>#FB3C62</td>\n",
       "    </tr>\n",
       "    <tr>\n",
       "      <th>volatile acidity</th>\n",
       "      <td>-0.019963</td>\n",
       "      <td>volatile acidity =0.72</td>\n",
       "      <td>0.023018</td>\n",
       "      <td>#FB3C62</td>\n",
       "    </tr>\n",
       "    <tr>\n",
       "      <th>free sulfur dioxide</th>\n",
       "      <td>0.014723</td>\n",
       "      <td>free sulfur dioxide =13.0</td>\n",
       "      <td>0.003055</td>\n",
       "      <td>#29EA38</td>\n",
       "    </tr>\n",
       "    <tr>\n",
       "      <th>citric acid</th>\n",
       "      <td>-0.004883</td>\n",
       "      <td>citric acid =0.22</td>\n",
       "      <td>0.017778</td>\n",
       "      <td>#FB3C62</td>\n",
       "    </tr>\n",
       "    <tr>\n",
       "      <th>density</th>\n",
       "      <td>-0.003330</td>\n",
       "      <td>density =1.0</td>\n",
       "      <td>0.012895</td>\n",
       "      <td>#FB3C62</td>\n",
       "    </tr>\n",
       "    <tr>\n",
       "      <th>residual sugar</th>\n",
       "      <td>-0.003327</td>\n",
       "      <td>residual sugar =2.3</td>\n",
       "      <td>0.009564</td>\n",
       "      <td>#FB3C62</td>\n",
       "    </tr>\n",
       "    <tr>\n",
       "      <th>others</th>\n",
       "      <td>-0.000794</td>\n",
       "      <td>Others =</td>\n",
       "      <td>0.006237</td>\n",
       "      <td>#FB3C62</td>\n",
       "    </tr>\n",
       "  </tbody>\n",
       "</table>\n",
       "</div>"
      ],
      "text/plain": [
       "                          shap                       label     blank    color\n",
       "base_value            0.137608            Base value =0.14  0.000000  #29EA38\n",
       "alcohol              -0.055662                alcohol =9.5  0.137608  #FB3C62\n",
       "total sulfur dioxide -0.036046  total sulfur dioxide =81.0  0.081945  #FB3C62\n",
       "sulphates            -0.022881             sulphates =0.54  0.045899  #FB3C62\n",
       "volatile acidity     -0.019963      volatile acidity =0.72  0.023018  #FB3C62\n",
       "free sulfur dioxide   0.014723   free sulfur dioxide =13.0  0.003055  #29EA38\n",
       "citric acid          -0.004883           citric acid =0.22  0.017778  #FB3C62\n",
       "density              -0.003330                density =1.0  0.012895  #FB3C62\n",
       "residual sugar       -0.003327         residual sugar =2.3  0.009564  #FB3C62\n",
       "others               -0.000794                    Others =  0.006237  #FB3C62"
      ]
     },
     "execution_count": 26,
     "metadata": {},
     "output_type": "execute_result"
    }
   ],
   "source": [
    "obs = 10\n",
    "rf_obs_to_explain = obs_to_explain(data = X_test.iloc[obs,:],\n",
    "                         base_value = base_value,\n",
    "                         shap_values = rf_shap_values[obs])\n",
    "rf_obs_to_explain"
   ]
  },
  {
   "cell_type": "code",
   "execution_count": 27,
   "metadata": {},
   "outputs": [],
   "source": [
    "def waterfall_plot(\n",
    "    for_plot,\n",
    "    Title=\"The Prediction \" ,\n",
    "    x_lab=\"\",\n",
    "    y_lab=\"The predicted value\",\n",
    "    formatting = \"{:,.2f}\",\n",
    "    rotation_value = 90,\n",
    "    figsize = (7,5),\n",
    "    green_color ='#29EA38' , \n",
    "    red_color = '#FB3C62'\n",
    "    ):\n",
    "    '''\n",
    "      - x_lab, y_lab: the x label and y label\n",
    "      - formatting: show the value of each bar \n",
    "      \n",
    "    '''\n",
    " \n",
    "    fig, ax = plt.subplots(figsize=figsize)\n",
    "\n",
    "    # Plot the waterfall    \n",
    "    plt.bar(range(0,len(for_plot.index)), for_plot['shap'], width=0.6,\n",
    "          bottom=for_plot['blank'],     color=for_plot['color'])     \n",
    "\n",
    "    #axis labels\n",
    "    plt.xlabel(\"\\n\" + x_lab)\n",
    "    plt.ylabel(y_lab + \"\\n\")\n",
    "\n",
    "    #Get the y-axis position for the labels\n",
    "    y_height = for_plot.shap.cumsum().shift(1).fillna(0) #+ base_value\n",
    "\n",
    "    plot_max = for_plot['shap'].max()\n",
    "    plot_min = for_plot['shap'].min()\n",
    "    pos_offset = plot_max / 40\n",
    "    plot_offset = plot_max / 15 \n",
    "    total = for_plot.sum().shap \n",
    "\n",
    "    # label the shap values\n",
    "    loop = 0\n",
    "    for index, row in for_plot.iterrows():\n",
    "        # For the last item in the list, we don't want to double count\n",
    "        if row['shap'] == total:\n",
    "                y = y_height[loop]\n",
    "        else:\n",
    "                y = y_height[loop] + row['shap']\n",
    "        \n",
    "        if row['shap'] > 0:\n",
    "                y += (pos_offset*2)\n",
    "                plt.annotate(formatting.format(row['shap']),(loop,y),ha=\"center\", color = green_color, fontsize=10)\n",
    "        else:\n",
    "                y -= (pos_offset*4)\n",
    "                plt.annotate(formatting.format(row['shap']),(loop,y),ha=\"center\", color = red_color, fontsize=10)\n",
    "        loop+=1\n",
    "\n",
    "    # Range of the ylim\n",
    "    plt.ylim(plot_min-round(3.6*plot_offset, 7) ,plot_max+round(3.6*plot_offset, 7))\n",
    "\n",
    "    #Rotate the labels\n",
    "    plt.xticks(range(0,len(for_plot)), for_plot['label'], rotation=rotation_value)\n",
    "\n",
    "    #add the base value line and title\n",
    "    #plt.axhline(base_value, color='black', linewidth = 0.6, linestyle=\"dashed\")\n",
    "    plt.title(Title)\n",
    "\n",
    "    import matplotlib.patches as mpatches\n",
    "    red_patch = mpatches.Patch(color=red_color, label='Down')\n",
    "    green_patch = mpatches.Patch(color=green_color, label='Up')\n",
    "    plt.legend(handles=[red_patch,green_patch],bbox_to_anchor=[1, 1], loc='upper left')\n",
    "\n",
    "    #plt.tight_layout()\n",
    "    return(fig)"
   ]
  },
  {
   "cell_type": "code",
   "execution_count": 28,
   "metadata": {},
   "outputs": [
    {
     "name": "stdout",
     "output_type": "stream",
     "text": [
      "The predicted value is: 0.005\n",
      "The expected value is: 0.138\n",
      "The predicted group is: 0\n",
      "The Actual value is: 0\n"
     ]
    },
    {
     "data": {
      "image/png": "[encoded data removed]",
      "text/plain": [
       "<Figure size 432x288 with 1 Axes>"
      ]
     },
     "metadata": {
      "needs_background": "light"
     },
     "output_type": "display_data"
    }
   ],
   "source": [
    "obs =10\n",
    "print(\"The predicted value is: \" +  str(np.round(Y_pred_prob[obs],3)))\n",
    "print(\"The expected value is: \" +  str(np.round(base_value,3)))\n",
    "print(\"The predicted group is: \" +  str(np.round(Y_pred[obs],0)))\n",
    "print(\"The Actual value is: \" +  str(np.round(Y_test[obs],3)))\n",
    "\n",
    "f = waterfall_plot(rf_obs_to_explain,    figsize = (6,4))"
   ]
  },
  {
   "cell_type": "markdown",
   "metadata": {},
   "source": [
    "### (1.2) XGB <a class=\"anchor\" id=\"section12\"></a>"
   ]
  },
  {
   "cell_type": "code",
   "execution_count": 29,
   "metadata": {},
   "outputs": [
    {
     "data": {
      "text/plain": [
       "0.999638222863754"
      ]
     },
     "execution_count": 29,
     "metadata": {},
     "output_type": "execute_result"
    }
   ],
   "source": [
    "import xgboost as xgb\n",
    "xgb_model = xgb.XGBRegressor(random_state=42)\n",
    "xgb_model.fit(X_train, Y_train).score(X_train,Y_train)"
   ]
  },
  {
   "cell_type": "code",
   "execution_count": 30,
   "metadata": {},
   "outputs": [],
   "source": [
    "xgb_model_explainer = shap.TreeExplainer(xgb_model)\n",
    "xgb_shap_values = xgb_model_explainer.shap_values(X_test)\n",
    "base_value = Y_train.mean()\n",
    "Y_pred_prob = xgb_model.predict(X_test)\n",
    "Y_pred = np.where(Y_pred_prob>base_value,1,0)"
   ]
  },
  {
   "cell_type": "code",
   "execution_count": 31,
   "metadata": {},
   "outputs": [
    {
     "data": {
      "text/html": [
       "<div>\n",
       "<style scoped>\n",
       "    .dataframe tbody tr th:only-of-type {\n",
       "        vertical-align: middle;\n",
       "    }\n",
       "\n",
       "    .dataframe tbody tr th {\n",
       "        vertical-align: top;\n",
       "    }\n",
       "\n",
       "    .dataframe thead th {\n",
       "        text-align: right;\n",
       "    }\n",
       "</style>\n",
       "<table border=\"1\" class=\"dataframe\">\n",
       "  <thead>\n",
       "    <tr style=\"text-align: right;\">\n",
       "      <th></th>\n",
       "      <th>shap</th>\n",
       "      <th>label</th>\n",
       "      <th>blank</th>\n",
       "      <th>color</th>\n",
       "    </tr>\n",
       "  </thead>\n",
       "  <tbody>\n",
       "    <tr>\n",
       "      <th>base_value</th>\n",
       "      <td>0.137608</td>\n",
       "      <td>Base value =0.14</td>\n",
       "      <td>0.000000</td>\n",
       "      <td>#29EA38</td>\n",
       "    </tr>\n",
       "    <tr>\n",
       "      <th>alcohol</th>\n",
       "      <td>-0.037175</td>\n",
       "      <td>alcohol =9.5</td>\n",
       "      <td>0.137608</td>\n",
       "      <td>#FB3C62</td>\n",
       "    </tr>\n",
       "    <tr>\n",
       "      <th>volatile acidity</th>\n",
       "      <td>-0.035487</td>\n",
       "      <td>volatile acidity =0.72</td>\n",
       "      <td>0.100433</td>\n",
       "      <td>#FB3C62</td>\n",
       "    </tr>\n",
       "    <tr>\n",
       "      <th>total sulfur dioxide</th>\n",
       "      <td>-0.031421</td>\n",
       "      <td>total sulfur dioxide =81.0</td>\n",
       "      <td>0.064945</td>\n",
       "      <td>#FB3C62</td>\n",
       "    </tr>\n",
       "    <tr>\n",
       "      <th>sulphates</th>\n",
       "      <td>-0.025581</td>\n",
       "      <td>sulphates =0.54</td>\n",
       "      <td>0.033525</td>\n",
       "      <td>#FB3C62</td>\n",
       "    </tr>\n",
       "    <tr>\n",
       "      <th>free sulfur dioxide</th>\n",
       "      <td>0.019973</td>\n",
       "      <td>free sulfur dioxide =13.0</td>\n",
       "      <td>0.007943</td>\n",
       "      <td>#29EA38</td>\n",
       "    </tr>\n",
       "    <tr>\n",
       "      <th>chlorides</th>\n",
       "      <td>-0.013829</td>\n",
       "      <td>chlorides =0.08</td>\n",
       "      <td>0.027917</td>\n",
       "      <td>#FB3C62</td>\n",
       "    </tr>\n",
       "    <tr>\n",
       "      <th>density</th>\n",
       "      <td>-0.007089</td>\n",
       "      <td>density =1.0</td>\n",
       "      <td>0.014087</td>\n",
       "      <td>#FB3C62</td>\n",
       "    </tr>\n",
       "    <tr>\n",
       "      <th>residual sugar</th>\n",
       "      <td>-0.006972</td>\n",
       "      <td>residual sugar =2.3</td>\n",
       "      <td>0.006998</td>\n",
       "      <td>#FB3C62</td>\n",
       "    </tr>\n",
       "    <tr>\n",
       "      <th>others</th>\n",
       "      <td>0.000606</td>\n",
       "      <td>Others =</td>\n",
       "      <td>0.000026</td>\n",
       "      <td>#29EA38</td>\n",
       "    </tr>\n",
       "  </tbody>\n",
       "</table>\n",
       "</div>"
      ],
      "text/plain": [
       "                          shap                       label     blank    color\n",
       "base_value            0.137608            Base value =0.14  0.000000  #29EA38\n",
       "alcohol              -0.037175                alcohol =9.5  0.137608  #FB3C62\n",
       "volatile acidity     -0.035487      volatile acidity =0.72  0.100433  #FB3C62\n",
       "total sulfur dioxide -0.031421  total sulfur dioxide =81.0  0.064945  #FB3C62\n",
       "sulphates            -0.025581             sulphates =0.54  0.033525  #FB3C62\n",
       "free sulfur dioxide   0.019973   free sulfur dioxide =13.0  0.007943  #29EA38\n",
       "chlorides            -0.013829             chlorides =0.08  0.027917  #FB3C62\n",
       "density              -0.007089                density =1.0  0.014087  #FB3C62\n",
       "residual sugar       -0.006972         residual sugar =2.3  0.006998  #FB3C62\n",
       "others                0.000606                    Others =  0.000026  #29EA38"
      ]
     },
     "execution_count": 31,
     "metadata": {},
     "output_type": "execute_result"
    }
   ],
   "source": [
    "obs = 10\n",
    "xgb_obs_to_explain = obs_to_explain(data = X_test.iloc[obs,:],\n",
    "                         base_value = base_value,\n",
    "                         shap_values = xgb_shap_values[obs])\n",
    "xgb_obs_to_explain"
   ]
  },
  {
   "cell_type": "code",
   "execution_count": 32,
   "metadata": {},
   "outputs": [
    {
     "name": "stdout",
     "output_type": "stream",
     "text": [
      "The predicted value is: 0.001\n",
      "The expected value is: 0.138\n",
      "The predicted group is: 0\n",
      "The Actual value is: 0\n"
     ]
    },
    {
     "data": {
      "image/png": "[encoded data removed]",
      "text/plain": [
       "<Figure size 504x360 with 1 Axes>"
      ]
     },
     "metadata": {
      "needs_background": "light"
     },
     "output_type": "display_data"
    }
   ],
   "source": [
    "# XGB\n",
    "print(\"The predicted value is: \" +  str(np.round(Y_pred_prob[obs],3)))\n",
    "print(\"The expected value is: \" +  str(np.round(base_value,3)))\n",
    "print(\"The predicted group is: \" +  str(np.round(Y_pred[obs],0)))\n",
    "print(\"The Actual value is: \" +  str(np.round(Y_test[obs],3)))\n",
    "\n",
    "f = waterfall_plot(xgb_obs_to_explain)"
   ]
  },
  {
   "cell_type": "markdown",
   "metadata": {},
   "source": [
    "## (2) Plotly <a class=\"anchor\" id=\"section2\"></a>"
   ]
  },
  {
   "cell_type": "code",
   "execution_count": 35,
   "metadata": {},
   "outputs": [],
   "source": [
    "def waterfall_plotly(xs,texts,ys,y_pred):\n",
    "    import plotly.graph_objects as go\n",
    "    import numpy as np\n",
    "    \n",
    "    \n",
    "    ms = list(np.repeat('relative',len(ys)))\n",
    "\n",
    "    fig = go.Figure(go.Waterfall(\n",
    "        name = \"20\", orientation = \"v\",\n",
    "        measure = ms,\n",
    "        x = xs,\n",
    "        textposition = \"outside\",\n",
    "        text = texts,\n",
    "        y = ys,\n",
    "        connector = {\"line\":{\"color\":\"rgb(63, 63, 63)\"} },\n",
    "       ) )\n",
    "\n",
    "\n",
    "    layout = go.Layout(\n",
    "        paper_bgcolor='rgba(0,0,0,0)',\n",
    "        plot_bgcolor='rgba(0,0,0,0)'\n",
    "    )\n",
    "\n",
    "    fig.update_layout(\n",
    "        template=\"plotly_white\",\n",
    "        title =\"The prediction of this observation is: \" + str(np.round(y_pred,2)),\n",
    "        margin=dict(l=120, r=120, t=60, b=60),\n",
    "        yaxis=dict(\n",
    "            title_text=\"The predicted value\" \n",
    "        ),\n",
    "        xaxis =dict(\n",
    "            tickangle = -90,\n",
    "            title_text = \"Variables\")\n",
    "    )\n",
    "    fig.write_html('/first.html', auto_open=True)"
   ]
  },
  {
   "cell_type": "markdown",
   "metadata": {},
   "source": [
    "### (2.1) Random forest <a class=\"anchor\" id=\"section21\"></a>"
   ]
  },
  {
   "cell_type": "code",
   "execution_count": 38,
   "metadata": {},
   "outputs": [],
   "source": [
    "obs = 10\n",
    "rf_obs_to_explain = obs_to_explain(data = X_test.iloc[obs,:],\n",
    "                         base_value = base_value,\n",
    "                         shap_values = rf_shap_values[obs])\n",
    "\n",
    "xs = list(rf_obs_to_explain['label'].values)\n",
    "texts = rf_obs_to_explain['shap'].round(2)\n",
    "ys = rf_obs_to_explain['shap'].round(2)\n",
    "waterfall_plotly(xs,texts,ys,Y_pred[obs])"
   ]
  },
  {
   "cell_type": "markdown",
   "metadata": {},
   "source": [
    "### (2.2) XGB <a class=\"anchor\" id=\"section22\"></a>"
   ]
  },
  {
   "cell_type": "code",
   "execution_count": 37,
   "metadata": {},
   "outputs": [],
   "source": [
    "obs = 10\n",
    "xgb_obs_to_explain = obs_to_explain(data = X_test.iloc[obs,:],\n",
    "                         base_value = base_value,\n",
    "                         shap_values = xgb_shap_values[obs])\n",
    "\n",
    "xs = list(xgb_obs_to_explain['label'].values)\n",
    "texts = xgb_obs_to_explain['shap'].round(2)\n",
    "ys = xgb_obs_to_explain['shap'].round(2)\n",
    "waterfall_plotly(xs,texts,ys,Y_pred[obs])"
   ]
  },
  {
   "cell_type": "code",
   "execution_count": null,
   "metadata": {},
   "outputs": [],
   "source": []
  },
  {
   "cell_type": "code",
   "execution_count": null,
   "metadata": {},
   "outputs": [],
   "source": []
  },
  {
   "cell_type": "code",
   "execution_count": null,
   "metadata": {},
   "outputs": [],
   "source": []
  },
  {
   "cell_type": "code",
   "execution_count": null,
   "metadata": {},
   "outputs": [],
   "source": []
  }
 ],
 "metadata": {
  "kernelspec": {
   "display_name": "Python 3",
   "language": "python",
   "name": "python3"
  },
  "language_info": {
   "codemirror_mode": {
    "name": "ipython",
    "version": 3
   },
   "file_extension": ".py",
   "mimetype": "text/x-python",
   "name": "python",
   "nbconvert_exporter": "python",
   "pygments_lexer": "ipython3",
   "version": "3.8.2"
  }
 },
 "nbformat": 4,
 "nbformat_minor": 4
}

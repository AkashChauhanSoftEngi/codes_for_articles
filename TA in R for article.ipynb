{
 "cells": [
  {
   "cell_type": "markdown",
   "metadata": {},
   "source": [
    "## Technical Mean Reversion Anomaly\n",
    "\n",
    "We find some stocks seem reverting around a trend line, although stock price movement is complex. We notice the price of a stock in the short term can deviate from its long-term trend line. The long-term trend can be characterized by a moving average line or a regression. We often find the short-term prices deviate and then reverts back to the regression line. Of various combinations of stock trading strategies, a common type of trading stategies is the mean reversion. It identifies anomalous opportunities as the entry or exit points. This strategy has been quite popular among traders.\n",
    "\n",
    "- Learning objective 1: Use the R library [\"quantmod\"](https://cran.r-project.org/web/packages/quantmod/quantmod.pdf), [\"TTR\"](https://cran.r-project.org/web/packages/TTR/TTR.pdf), and [\"PerformanceAnalytics\"](https://cran.r-project.org/web/packages/PerformanceAnalytics/PerformanceAnalytics.pdf)\n",
    "- Learning objective 2: Common stock data transformation\n",
    "- Learning objective 3: The basic characteristics of stock returns\n",
    "- Learning objective 4: Common technical indicators\n",
    "- Learning objective 5: How to plot technical charts\n",
    "- Learning objective 6: Develop your trading strategy & signals\n",
    "- Learning objective 7: Backtesting\n",
    "- Learning objective 8: Use technical indicators as features for machine learning\n",
    "- Learning objective 9: Python [TA-lib](https://mrjbq7.github.io/ta-lib/). TA-Lib is widely used by trading software developers to perform technical analysis of financial market data."
   ]
  },
  {
   "cell_type": "markdown",
   "metadata": {},
   "source": [
    "### Learning objective 1: Use the R library [\"quantmod\"](https://cran.r-project.org/web/packages/quantmod/quantmod.pdf), [\"TTR\"](https://cran.r-project.org/web/packages/TTR/TTR.pdf), and [\"PerformanceAnalytics\"](https://cran.r-project.org/web/packages/PerformanceAnalytics/PerformanceAnalytics.pdf)"
   ]
  },
  {
   "cell_type": "code",
   "execution_count": 7,
   "metadata": {},
   "outputs": [],
   "source": [
    "#install.packages(\"PerformanceAnalytics\")"
   ]
  },
  {
   "cell_type": "code",
   "execution_count": 2,
   "metadata": {},
   "outputs": [],
   "source": [
    "# The easiest way to get dplyr is to install the whole tidyverse:\n",
    "library(tidyverse) # https://www.tidyverse.org/\n",
    "library(dplyr) # or just dplyr\n",
    "library(quantmod)\n",
    "library(TTR)\n",
    "library(PerformanceAnalytics)\n",
    "library(\"IRdisplay\")"
   ]
  },
  {
   "cell_type": "code",
   "execution_count": 3,
   "metadata": {},
   "outputs": [
    {
     "name": "stderr",
     "output_type": "stream",
     "text": [
      "‘getSymbols’ currently uses auto.assign=TRUE by default, but will\n",
      "use auto.assign=FALSE in 0.5-0. You will still be able to use\n",
      "‘loadSymbols’ to automatically load data. getOption(\"getSymbols.env\")\n",
      "and getOption(\"getSymbols.auto.assign\") will still be checked for\n",
      "alternate defaults.\n",
      "\n",
      "This message is shown once per session and may be disabled by setting \n",
      "options(\"getSymbols.warning4.0\"=FALSE). See ?getSymbols for details.\n",
      "\n"
     ]
    },
    {
     "data": {
      "text/html": [
       "<ol class=list-inline>\n",
       "\t<li>'AMZN'</li>\n",
       "\t<li>'DAL'</li>\n",
       "</ol>\n"
      ],
      "text/latex": [
       "\\begin{enumerate*}\n",
       "\\item 'AMZN'\n",
       "\\item 'DAL'\n",
       "\\end{enumerate*}\n"
      ],
      "text/markdown": [
       "1. 'AMZN'\n",
       "2. 'DAL'\n",
       "\n",
       "\n"
      ],
      "text/plain": [
       "[1] \"AMZN\" \"DAL\" "
      ]
     },
     "metadata": {},
     "output_type": "display_data"
    }
   ],
   "source": [
    "getSymbols(c(\"AMZN\",\"DAL\"))"
   ]
  },
  {
   "cell_type": "code",
   "execution_count": 4,
   "metadata": {},
   "outputs": [
    {
     "data": {
      "text/plain": [
       "           AMZN.Open AMZN.High AMZN.Low AMZN.Close AMZN.Volume AMZN.Adjusted\n",
       "2007-01-03     38.68     39.06    38.05      38.70    12405100         38.70\n",
       "2007-01-04     38.59     39.14    38.26      38.90     6318400         38.90\n",
       "2007-01-05     38.72     38.79    37.60      38.37     6619700         38.37\n",
       "2007-01-08     38.22     38.31    37.17      37.50     6783000         37.50\n",
       "2007-01-09     37.60     38.06    37.34      37.78     5703000         37.78\n",
       "2007-01-10     37.49     37.70    37.07      37.15     6527500         37.15"
      ]
     },
     "metadata": {},
     "output_type": "display_data"
    }
   ],
   "source": [
    "df <- AMZN\n",
    "head(df)"
   ]
  },
  {
   "cell_type": "markdown",
   "metadata": {},
   "source": [
    "### Learning objective 2: Common stock data transformation\n",
    "* These common stock data transformation can be handled easily by the functions in the quantmod library"
   ]
  },
  {
   "cell_type": "code",
   "execution_count": 5,
   "metadata": {},
   "outputs": [],
   "source": [
    "df2 <- df\n",
    "\n",
    "# Returns from Open to Close, Hi to Close, or Close to Close \n",
    "df2$OpCl <- OpCl(df2)\n",
    "df2$OpOp <- OpOp(df2) \n",
    "df2$HiCl <- HiCl(df2) \n",
    "df2$ClCl <- ClCl(df2) \n",
    "\n",
    "df2$pcntOpCl1 <- Delt(Op(df2),Cl(df2),k=1)\n",
    "df2$pcntOpCl2 <- Delt(Op(df2),Cl(df2),k=2)\n",
    "df2$pcntOpCl3 <- Delt(Op(df2),Cl(df2),k=3)\n",
    "\n",
    "#One period lag of the close \n",
    "df2$lagCl <- Lag(Cl(df2)) \n",
    "df2$lag2Cl <- Lag(Cl(df2),2)  \n",
    "df2$lag3Cl <- Lag(Cl(df2),3) \n",
    "\n",
    "# Move up the OpCl by one period\n",
    "df2$nextOpCl <- Next(OpCl(df2)) \n",
    "\n",
    "#head(df2)"
   ]
  },
  {
   "cell_type": "code",
   "execution_count": 6,
   "metadata": {},
   "outputs": [
    {
     "data": {
      "text/plain": [
       "         df.Open df.High df.Low df.Close df.Volume df.Adjusted  month year\n",
       "Jan 2007   38.68   39.14  36.30    37.67 130435300       37.67 200701 2007\n",
       "Feb 2007   37.95   42.00  36.68    39.14 157975400       39.14 200702 2007\n",
       "Mar 2007   39.32   40.24  37.04    39.79 142153100       39.79 200703 2007\n",
       "Apr 2007   39.85   63.84  39.55    61.33 346287000       61.33 200704 2007\n",
       "May 2007   61.12   73.31  59.70    69.14 330242400       69.14 200705 2007\n",
       "Jun 2007   68.90   74.72  66.71    68.41 238788700       68.41 200706 2007"
      ]
     },
     "metadata": {},
     "output_type": "display_data"
    }
   ],
   "source": [
    "df.monthly <- to.monthly(df)\n",
    "df.monthly$month <- format(index(df.monthly),\"%Y%m\")\n",
    "df.monthly$year <- format(index(df.monthly),\"%Y\")\n",
    "head(df.monthly)"
   ]
  },
  {
   "cell_type": "code",
   "execution_count": 7,
   "metadata": {},
   "outputs": [
    {
     "data": {
      "text/plain": [
       "           daily.returns\n",
       "2007-01-03  0.0005170889\n",
       "2007-01-04  0.0051679844\n",
       "2007-01-05 -0.0136247551\n",
       "2007-01-08 -0.0226739386\n",
       "2007-01-09  0.0074666400\n",
       "2007-01-10 -0.0166754107"
      ]
     },
     "metadata": {},
     "output_type": "display_data"
    }
   ],
   "source": [
    "rtn.daily <- dailyReturn(df) # returns by day \n",
    "rtn.weekly <- weeklyReturn(df) # returns by week \n",
    "rtn.monthly <- monthlyReturn(df) # returns by month, indexed by yearmon \n",
    "# daily,weekly,monthly,quarterly, and yearly \n",
    "rtn.allperiods <- allReturns(df) # note the plural\n",
    "head(rtn.daily)"
   ]
  },
  {
   "cell_type": "markdown",
   "metadata": {},
   "source": [
    "### Learning objective 3: The basic characteristics of stock returns\n",
    "- A standard normal distribution has 0 mean, 1 standard deviation, and 0 excess [kurtosis](http://www.r-tutor.com/elementary-statistics/numerical-measures/kurtosis) \n",
    "- The ditribution of a typical stock returns has small standard deviation and positive excess kurtosis"
   ]
  },
  {
   "cell_type": "code",
   "execution_count": 9,
   "metadata": {},
   "outputs": [
    {
     "name": "stdout",
     "output_type": "stream",
     "text": [
      "[1] \"standard deviation: 0.998879862990584\"\n",
      "[1] \"Kurtosis: 0.03\"\n"
     ]
    }
   ],
   "source": [
    "# Generate a standard normal distribution\n",
    "rn <- rnorm(100000)\n",
    "print(paste0(\"standard deviation: \", sd(rn)))\n",
    "print(paste0(\"Kurtosis: \", round(kurtosis(rn),2)))\n",
    "options(repr.plot.width = 4, repr.plot.height = 4)\n",
    "\n",
    "#hist(rn,breaks=100,prob=TRUE)\n",
    "#curve(dnorm(x, mean=0, sd=1), col=\"darkblue\", lwd=2, add=TRUE ) # Overlay a standard normal distribution"
   ]
  },
  {
   "cell_type": "code",
   "execution_count": 12,
   "metadata": {},
   "outputs": [
    {
     "name": "stdout",
     "output_type": "stream",
     "text": [
      "[1] \"standard deviation: 0.024401938344768\"\n",
      "[1] \"Kurtosis: 15.91\"\n"
     ]
    },
    {
     "data": {
      "text/html": [
       "0.00156416346916063"
      ],
      "text/latex": [
       "0.00156416346916063"
      ],
      "text/markdown": [
       "0.00156416346916063"
      ],
      "text/plain": [
       "[1] 0.001564163"
      ]
     },
     "metadata": {},
     "output_type": "display_data"
    }
   ],
   "source": [
    "print(paste0(\"standard deviation: \", sd(rtn.daily)))\n",
    "print(paste0(\"Kurtosis: \", round(kurtosis(rtn.daily),2)))\n",
    "\n",
    "options(repr.plot.width = 4, repr.plot.height = 4)\n",
    "\n",
    "m<-mean(rtn.daily)\n",
    "std<-sqrt(var(rtn.daily))\n",
    "m\n",
    "\n",
    "# Overlay a standard normal distribution\n",
    "#curve(dnorm(x, mean=m, sd=std), col=\"darkblue\", lwd=2, add=TRUE )\n",
    "#hist(rtn.daily, breaks=100, prob=TRUE) # Make it a probability distribution"
   ]
  },
  {
   "cell_type": "code",
   "execution_count": 13,
   "metadata": {},
   "outputs": [],
   "source": [
    "# A really basic boxplot.\n",
    "df$year <- format(index(df),\"%Y\")\n",
    "df$month <- format(index(df),\"%Y%m\")\n",
    "df3 <- data.frame(df) %>% filter(year==2014)\n",
    "df3$AMZN.Volume <- as.numeric(df3$AMZN.Volume)\n",
    "\n",
    "options(repr.plot.width = 6, repr.plot.height = 3)\n",
    "\n",
    "# Basic plot\n",
    "p <-ggplot(df3, aes(x=as.factor(month), y=AMZN.Volume)) \n",
    "\n",
    "#p + geom_boxplot(fill=\"slateblue\", alpha=0.2) +  xlab(\"Month\") "
   ]
  },
  {
   "cell_type": "code",
   "execution_count": 14,
   "metadata": {},
   "outputs": [],
   "source": [
    "options(repr.plot.width = 6, repr.plot.height = 3)\n",
    "# Change outlier, color, shape and size\n",
    "p2 <- p  + geom_boxplot(outlier.colour=\"red\", outlier.shape=8,\n",
    "                outlier.size=1) +     xlab(\"Month\")\n",
    "#p2"
   ]
  },
  {
   "cell_type": "code",
   "execution_count": 15,
   "metadata": {},
   "outputs": [],
   "source": [
    "# Box plot with dot plot\n",
    "#p2 + geom_dotplot(binaxis='y', stackdir='center', dotsize=0.2, binwidth=40)"
   ]
  },
  {
   "cell_type": "code",
   "execution_count": 158,
   "metadata": {},
   "outputs": [],
   "source": [
    "options(repr.plot.width = 6, repr.plot.height = 4)\n",
    "df <- AMZN\n",
    "df$OpCl <- OpCl(df)\n",
    "df$OpOp <- OpOp(df) \n",
    "df$HiCl <- HiCl(df) \n",
    "df$month <- format(index(df),\"%Y%m\")\n",
    "df$year <- format(index(df),\"%Y\")\n",
    "df_hiCl <- df[df$year==2017,]\n",
    "#boxplot(HiCl~month, data=df_hiCl, notch=TRUE, \n",
    "#  col=(c(\"gold\",\"darkgreen\")),\n",
    "#  main=\"Hi-Closed\", xlab=\"Month\")\n",
    "\n",
    "#boxplot(OpCl~month, data=df_hiCl, notch=TRUE, \n",
    "#  col=(c(\"gold\",\"darkgreen\")),\n",
    "#  main=\"Open-Closed\", xlab=\"Month\")"
   ]
  },
  {
   "cell_type": "markdown",
   "metadata": {},
   "source": [
    "### Learning objective 4: Common technical indicators\n",
    "\n",
    "#### MACD\n",
    "* MACD=12-Period EMA − 26-Period EMA, or \"fast EMA - slow FMA\"\n",
    "* The MACD was developed by Gerald Appel and is probably the most popular price oscillator. \n",
    "* It can be used as a generic oscillator for any univariate series, not only price.\n",
    "* The MACD has a positive value whenever the 12-period EMA is above the 26-period EMA and a negative value when the 12-period EMA is below the 26-period EMA. The more distant the MACD is above or below its baseline indicates that the distance between the two EMAs is growing. \n",
    "\n",
    "#### RSI\n",
    "* Introduced by Welles Wilder Jr. in his seminal 1978 book \"New Concepts in Technical Trading Systems\", the relative strength index (RSI) is a popular momentum indicator.\n",
    "* It measures the magnitude of recent price changes to evaluate overbought or oversold conditions. \n",
    "* The RSI is displayed as an oscillator and can have a reading from 0 to 100.  \n",
    "* RSI >= 70: a security is overbought or overvalued and may be primed for a trend reversal or corrective pullback in price. \n",
    "* RSI <= 30: an oversold or undervalued condition.\n",
    "* It can be used in the price of a stock or other asset.\n",
    "\n",
    "#### Bollinger Bands\n",
    "* Bollinger Bands are a type of price envelope developed by John Bollinger\n",
    "* Bollinger Bands are envelopes plotted at a standard deviation level above and below a simple moving average of the price. Because the distance of the bands is based on standard deviation, they adjust to volatility swings in the underlying price.\n",
    "* Bollinger Bands use 2 parameters, Period and Standard Deviations, StdDev. The default values are 20 for period, and 2 for standard deviations, although you may customize the combinations.\n",
    "* Bollinger bands help determine whether prices are high or low on a relative basis. They are used in pairs, both upper and lower bands and in conjunction with a moving average. Further, the pair of bands is not intended to be used on its own. Use the pair to confirm signals given with other indicators.\n",
    "* \"Distance from a moving average\" or \"standard deviation\" apply the same concept\n",
    "* Click [here](https://www.fidelity.com/learning-center/trading-investing/technical-analysis/technical-indicator-guide/bollinger-bands#:~:text=Bollinger%20Bands%20are%20envelopes%20plotted,Period%20and%20Standard%20Deviations%2C%20StdDev.) for more detail"
   ]
  },
  {
   "cell_type": "code",
   "execution_count": 16,
   "metadata": {},
   "outputs": [],
   "source": [
    "v <- Delt(Op(df),Cl(df),k=1:3)\n",
    "colnames(v) <-c(\"pcntOpCl1\",\"pcntOpCl2\",\"pcntOpCl3\")\n",
    "df2 <- cbind(df,v)\n",
    "#head(df2)"
   ]
  },
  {
   "cell_type": "code",
   "execution_count": 17,
   "metadata": {},
   "outputs": [],
   "source": [
    "macd <- MACD(df2$AMZN.Adjusted, nFast = 12, nSlow = 26, nSig = 9, maType = \"SMA\", percent = FALSE)\n",
    "rsi <- RSI(df2$AMZN.Adjusted, n = 14, maType = \"SMA\")\n",
    "\n",
    "#tail(macd)"
   ]
  },
  {
   "cell_type": "code",
   "execution_count": 18,
   "metadata": {},
   "outputs": [],
   "source": [
    "#tail(rsi)"
   ]
  },
  {
   "cell_type": "code",
   "execution_count": 19,
   "metadata": {},
   "outputs": [],
   "source": [
    "d <- cbind(AMZN,macd,rsi)\n",
    "d$SMA12 <- SMA(d$AMZN.Adjusted,12)\n",
    "d$SMA26 <- SMA(d$AMZN.Adjusted,26)\n",
    "d <- subset(d, select = -c(AMZN.Open,AMZN.High,AMZN.Low,AMZN.Close,AMZN.Volume))\n",
    "#d[50:60]"
   ]
  },
  {
   "cell_type": "markdown",
   "metadata": {},
   "source": [
    "### Learning objective 5: How to plot technical charts"
   ]
  },
  {
   "cell_type": "code",
   "execution_count": 20,
   "metadata": {},
   "outputs": [],
   "source": [
    "options(repr.plot.width = 6, repr.plot.height = 3)\n",
    "#chartSeries(AMZN, subset = \"last 3 months\")"
   ]
  },
  {
   "cell_type": "code",
   "execution_count": 21,
   "metadata": {},
   "outputs": [],
   "source": [
    "options(repr.plot.width = 6, repr.plot.height = 3)\n",
    "#chartSeries(AMZN, subset = \"2007::2008-01\")"
   ]
  },
  {
   "cell_type": "code",
   "execution_count": 22,
   "metadata": {},
   "outputs": [],
   "source": [
    "options(repr.plot.width = 6, repr.plot.height = 3)\n",
    "#chartSeries(AMZN, theme = chartTheme(\"white\"))"
   ]
  },
  {
   "cell_type": "code",
   "execution_count": 23,
   "metadata": {},
   "outputs": [],
   "source": [
    "options(repr.plot.width = 6, repr.plot.height = 3)\n",
    "#chartSeries(AMZN, subset = \"2016::2018-12\", TA = c(addVo(), addBBands()))  #add volume and Bollinger Bands from TTR"
   ]
  },
  {
   "cell_type": "code",
   "execution_count": 24,
   "metadata": {},
   "outputs": [],
   "source": [
    "options(repr.plot.width = 6, repr.plot.height = 3)\n",
    "#chartSeries(AMZN, subset = \"2018::2018-12\",bar.type='hlc', \n",
    "#            TA = c(addSMA(n=12,col=\"blue\"),addSMA(n=26,col=\"red\")),\n",
    "#            theme = chartTheme(\"white\"))  "
   ]
  },
  {
   "cell_type": "code",
   "execution_count": 25,
   "metadata": {},
   "outputs": [],
   "source": [
    "options(repr.plot.width = 6, repr.plot.height = 3)\n",
    "#chartSeries(AMZN, subset = \"2018::2018-12\",bar.type='hlc', \n",
    "#            TA = c(addSMA(n=12,col=\"green\"),addSMA(n=26,col=\"red\"),\n",
    "#                addMACD(),addRSI()),\n",
    "#            theme = chartTheme(\"white\"))  "
   ]
  },
  {
   "cell_type": "code",
   "execution_count": 26,
   "metadata": {},
   "outputs": [],
   "source": [
    "options(repr.plot.width = 6, repr.plot.height = 3)\n",
    "#barChart(AMZN,subset = \"2018::2018-12\",bar.type='hlc') "
   ]
  },
  {
   "cell_type": "code",
   "execution_count": 27,
   "metadata": {},
   "outputs": [],
   "source": [
    "options(repr.plot.width = 6, repr.plot.height = 3)\n",
    "#candleChart(AMZN,subset = \"2018::2018-06\",multi.col=TRUE, theme='white')"
   ]
  },
  {
   "cell_type": "code",
   "execution_count": 28,
   "metadata": {},
   "outputs": [],
   "source": [
    "options(repr.plot.width = 6, repr.plot.height = 3)\n",
    "#chartSeries(AMZN, subset = \"2018::2018-06\",theme=\"white\",  TA=\"addVo();addBBands();addCCI()\") "
   ]
  },
  {
   "cell_type": "code",
   "execution_count": 29,
   "metadata": {},
   "outputs": [],
   "source": [
    "options(repr.plot.width = 6, repr.plot.height = 3)\n",
    "#chartSeries(AMZN, subset = \"2018::2018-06\",\n",
    "#            theme=\"white\",  \n",
    "#            TA=\"addVo();addBBands();addCCI(); \n",
    "#                addTA(OpCl(AMZN),col='blue', type='h')  \")"
   ]
  },
  {
   "cell_type": "markdown",
   "metadata": {},
   "source": [
    "### Learning objective 6: Develop your trading strategy & signals\n",
    "\n",
    "#### MACD & RSI trading rule\n"
   ]
  },
  {
   "cell_type": "code",
   "execution_count": 30,
   "metadata": {},
   "outputs": [],
   "source": [
    "macd <- MACD(AMZN$AMZN.Adjusted, nFast = 12, nSlow = 26, nSig = 9, maType = \"SMA\", percent = FALSE)\n",
    "rsi <- RSI(AMZN$AMZN.Adjusted, n = 14, maType = \"SMA\")\n",
    "#tail(macd)\n",
    "#tail(rsi)"
   ]
  },
  {
   "cell_type": "markdown",
   "metadata": {},
   "source": [
    "Here we assume no transaction cost."
   ]
  },
  {
   "cell_type": "code",
   "execution_count": 31,
   "metadata": {},
   "outputs": [],
   "source": [
    "macd <- MACD(AMZN$AMZN.Adjusted, nFast = 12, nSlow = 26, nSig = 9, maType = \"SMA\", percent = FALSE)\n",
    "rsi <- RSI(AMZN$AMZN.Adjusted, n = 14, maType = \"SMA\")\n",
    "\n",
    "# Strategy 1: if macd>signal, enter and stay in the market. If macd<signal, exit the market.\n",
    "strategy1 <- ifelse ((macd$signal < macd$macd) , 1, 0)\n",
    "strategy1[is.na(strategy1)] <-0\n",
    "\n",
    "# Strategy 2: if overbought, enter and stay in the market.\n",
    "strategy2 <- ifelse ((macd$signal < macd$macd) & (rsi$rsi > 70), 1, 0)\n",
    "strategy2[is.na(strategy2)] <-0\n",
    "\n",
    "# Strategy 3: if oversold, enter and stay in the market.\n",
    "strategy3 <- ifelse ((macd$signal > macd$macd) & (rsi$rsi < 30), 1, 0)\n",
    "strategy3[is.na(strategy3)] <-0\n",
    "\n",
    "\n",
    "# Buy-and-hold: keep it all time. So \"1\", not \"0\"\n",
    "bh_strategy <- rep(1,dim(macd)[1])"
   ]
  },
  {
   "cell_type": "markdown",
   "metadata": {},
   "source": [
    "### Learning objective 7: Backtesting\n",
    "\n",
    "#### Annualized return\n",
    "* An annualized total return is the average amount earned by an investment each year over a given time period.\n",
    "\n",
    "#### Sharpe Ratio\n",
    "* [Sharpe Ratio](https://en.wikipedia.org/wiki/Sharpe_ratio)\n",
    "* [Annualized Sharpe Ratio](https://www.rdocumentation.org/packages/PerformanceAnalytics/versions/2.0.4/topics/SharpeRatio.annualized#:~:text=The%20annualized%20Sharpe%20ratio%20is,standard%20deviation%20of%20excess%20return.)\n",
    "* Usually, any Sharpe ratio greater than 1.0 is considered acceptable to good by investors. A ratio higher than 2.0 is rated as very good. A ratio of 3.0 or higher is considered excellent. A ratio under 1.0 is considered sub-optimal.\n",
    "* \"Lag\": Since we are working with Closing prices, we can BUY or SELL on our signal the next day only"
   ]
  },
  {
   "cell_type": "code",
   "execution_count": 32,
   "metadata": {},
   "outputs": [
    {
     "data": {
      "text/html": [
       "<table>\n",
       "<thead><tr><th></th><th scope=col>Strategy1</th></tr></thead>\n",
       "<tbody>\n",
       "\t<tr><th scope=row>Cumulative Return</th><td>1.23</td></tr>\n",
       "\t<tr><th scope=row>Annualized Return</th><td>0.09</td></tr>\n",
       "\t<tr><th scope=row>Sharpe Ratio</th><td>0.03</td></tr>\n",
       "\t<tr><th scope=row>Annualized Sharpe Ratio</th><td>0.33</td></tr>\n",
       "</tbody>\n",
       "</table>\n"
      ],
      "text/latex": [
       "\\begin{tabular}{r|l}\n",
       "  & Strategy1\\\\\n",
       "\\hline\n",
       "\tCumulative Return & 1.23\\\\\n",
       "\tAnnualized Return & 0.09\\\\\n",
       "\tSharpe Ratio & 0.03\\\\\n",
       "\tAnnualized Sharpe Ratio & 0.33\\\\\n",
       "\\end{tabular}\n"
      ],
      "text/markdown": [
       "\n",
       "| <!--/--> | Strategy1 |\n",
       "|---|---|\n",
       "| Cumulative Return | 1.23 |\n",
       "| Annualized Return | 0.09 |\n",
       "| Sharpe Ratio | 0.03 |\n",
       "| Annualized Sharpe Ratio | 0.33 |\n",
       "\n"
      ],
      "text/plain": [
       "                        Strategy1\n",
       "Cumulative Return       1.23     \n",
       "Annualized Return       0.09     \n",
       "Sharpe Ratio            0.03     \n",
       "Annualized Sharpe Ratio 0.33     "
      ]
     },
     "metadata": {},
     "output_type": "display_data"
    },
    {
     "data": {
      "text/html": [
       "<table>\n",
       "<thead><tr><th></th><th scope=col>Strategy2</th></tr></thead>\n",
       "<tbody>\n",
       "\t<tr><th scope=row>Cumulative Return</th><td>-0.01</td></tr>\n",
       "\t<tr><th scope=row>Annualized Return</th><td> 0.00</td></tr>\n",
       "\t<tr><th scope=row>Sharpe Ratio</th><td> 0.00</td></tr>\n",
       "\t<tr><th scope=row>Annualized Sharpe Ratio</th><td>-0.01</td></tr>\n",
       "</tbody>\n",
       "</table>\n"
      ],
      "text/latex": [
       "\\begin{tabular}{r|l}\n",
       "  & Strategy2\\\\\n",
       "\\hline\n",
       "\tCumulative Return & -0.01\\\\\n",
       "\tAnnualized Return &  0.00\\\\\n",
       "\tSharpe Ratio &  0.00\\\\\n",
       "\tAnnualized Sharpe Ratio & -0.01\\\\\n",
       "\\end{tabular}\n"
      ],
      "text/markdown": [
       "\n",
       "| <!--/--> | Strategy2 |\n",
       "|---|---|\n",
       "| Cumulative Return | -0.01 |\n",
       "| Annualized Return |  0.00 |\n",
       "| Sharpe Ratio |  0.00 |\n",
       "| Annualized Sharpe Ratio | -0.01 |\n",
       "\n"
      ],
      "text/plain": [
       "                        Strategy2\n",
       "Cumulative Return       -0.01    \n",
       "Annualized Return        0.00    \n",
       "Sharpe Ratio             0.00    \n",
       "Annualized Sharpe Ratio -0.01    "
      ]
     },
     "metadata": {},
     "output_type": "display_data"
    },
    {
     "data": {
      "text/html": [
       "<table>\n",
       "<thead><tr><th></th><th scope=col>Strategy3</th></tr></thead>\n",
       "<tbody>\n",
       "\t<tr><th scope=row>Cumulative Return</th><td>0.73</td></tr>\n",
       "\t<tr><th scope=row>Annualized Return</th><td>0.06</td></tr>\n",
       "\t<tr><th scope=row>Sharpe Ratio</th><td>0.04</td></tr>\n",
       "\t<tr><th scope=row>Annualized Sharpe Ratio</th><td>0.55</td></tr>\n",
       "</tbody>\n",
       "</table>\n"
      ],
      "text/latex": [
       "\\begin{tabular}{r|l}\n",
       "  & Strategy3\\\\\n",
       "\\hline\n",
       "\tCumulative Return & 0.73\\\\\n",
       "\tAnnualized Return & 0.06\\\\\n",
       "\tSharpe Ratio & 0.04\\\\\n",
       "\tAnnualized Sharpe Ratio & 0.55\\\\\n",
       "\\end{tabular}\n"
      ],
      "text/markdown": [
       "\n",
       "| <!--/--> | Strategy3 |\n",
       "|---|---|\n",
       "| Cumulative Return | 0.73 |\n",
       "| Annualized Return | 0.06 |\n",
       "| Sharpe Ratio | 0.04 |\n",
       "| Annualized Sharpe Ratio | 0.55 |\n",
       "\n"
      ],
      "text/plain": [
       "                        Strategy3\n",
       "Cumulative Return       0.73     \n",
       "Annualized Return       0.06     \n",
       "Sharpe Ratio            0.04     \n",
       "Annualized Sharpe Ratio 0.55     "
      ]
     },
     "metadata": {},
     "output_type": "display_data"
    },
    {
     "data": {
      "text/html": [
       "<table>\n",
       "<thead><tr><th></th><th scope=col>Buy &amp; Hold Strategy</th></tr></thead>\n",
       "<tbody>\n",
       "\t<tr><th scope=row>Cumulative Return</th><td>16.47</td></tr>\n",
       "\t<tr><th scope=row>Annualized Return</th><td> 0.37</td></tr>\n",
       "\t<tr><th scope=row>Sharpe Ratio</th><td> 0.06</td></tr>\n",
       "\t<tr><th scope=row>Annualized Sharpe Ratio</th><td> 0.88</td></tr>\n",
       "</tbody>\n",
       "</table>\n"
      ],
      "text/latex": [
       "\\begin{tabular}{r|l}\n",
       "  & Buy \\& Hold Strategy\\\\\n",
       "\\hline\n",
       "\tCumulative Return & 16.47\\\\\n",
       "\tAnnualized Return &  0.37\\\\\n",
       "\tSharpe Ratio &  0.06\\\\\n",
       "\tAnnualized Sharpe Ratio &  0.88\\\\\n",
       "\\end{tabular}\n"
      ],
      "text/markdown": [
       "\n",
       "| <!--/--> | Buy & Hold Strategy |\n",
       "|---|---|\n",
       "| Cumulative Return | 16.47 |\n",
       "| Annualized Return |  0.37 |\n",
       "| Sharpe Ratio |  0.06 |\n",
       "| Annualized Sharpe Ratio |  0.88 |\n",
       "\n"
      ],
      "text/plain": [
       "                        Buy & Hold Strategy\n",
       "Cumulative Return       16.47              \n",
       "Annualized Return        0.37              \n",
       "Sharpe Ratio             0.06              \n",
       "Annualized Sharpe Ratio  0.88              "
      ]
     },
     "metadata": {},
     "output_type": "display_data"
    }
   ],
   "source": [
    "# Put in a function\n",
    "backtest <- function(df,from_date,to_date,strategy,strategy_name){\n",
    "    trade_return <- rtn.daily[index(rtn.daily)<=to_date & index(rtn.daily)>=from_date]*lag(strategy, na.pad = FALSE)\n",
    "    cumm_return <- Return.cumulative(trade_return)\n",
    "    annual_return <- Return.annualized(trade_return) \n",
    "    summary(as.ts(trade_return))\n",
    "    SharpeRatio <- SharpeRatio(as.ts(trade_return), Rf = 0, p = 0.95, FUN = \"StdDev\")\n",
    "    SharpeRatioAnnualized <- SharpeRatio.annualized(trade_return, Rf = 0)\n",
    "    out <- as.data.frame(c(cumm_return,annual_return,SharpeRatio,SharpeRatioAnnualized))\n",
    "    out <- round(out,2)\n",
    "    colnames(out) <- strategy_name\n",
    "    row.names(out) <- c('Cumulative Return','Annualized Return','Sharpe Ratio','Annualized Sharpe Ratio')\n",
    "    \n",
    "  return( out )\n",
    "    }\n",
    "\n",
    "# Strategy 1\n",
    "strategy1_performance <- backtest(AMZN, from_date = '2007-01-01', to_date = '2015-12-31', strategy1,\"Strategy1\")\n",
    "strategy1_performance\n",
    "\n",
    "# Strategy 2\n",
    "strategy2_performance <- backtest(AMZN, from_date = '2007-01-01', to_date = '2015-12-31', strategy2,\"Strategy2\")\n",
    "strategy2_performance\n",
    "\n",
    "# Strategy 3\n",
    "strategy3_performance <- backtest(AMZN, from_date = '2007-01-01', to_date = '2015-12-31', strategy3,\"Strategy3\")\n",
    "strategy3_performance\n",
    "\n",
    "\n",
    "# Buy-and-hold strategy\n",
    "BH_backtest <- function(df,from_date,to_date,strategy_name){\n",
    "    trade_return <- rtn.daily[index(rtn.daily)<=to_date & index(rtn.daily)>=from_date]\n",
    "    cumm_return <- Return.cumulative(trade_return)\n",
    "    annual_return <- Return.annualized(trade_return) \n",
    "    summary(as.ts(trade_return))\n",
    "    SharpeRatio <- SharpeRatio(as.ts(trade_return), Rf = 0, p = 0.95, FUN = \"StdDev\")\n",
    "    SharpeRatioAnnualized <- SharpeRatio.annualized(trade_return, Rf = 0)\n",
    "    out <- as.data.frame(c(cumm_return,annual_return,SharpeRatio,SharpeRatioAnnualized))\n",
    "    out <- round(out,2)\n",
    "    colnames(out) <- strategy_name\n",
    "    row.names(out) <- c('Cumulative Return','Annualized Return','Sharpe Ratio','Annualized Sharpe Ratio')\n",
    "     \n",
    "  return( out )\n",
    "    }\n",
    "\n",
    "buy_and_hold_performance <- BH_backtest(AMZN, from_date = '2007-01-01', to_date = '2015-12-31',\"Buy & Hold Strategy\")\n",
    "buy_and_hold_performance"
   ]
  },
  {
   "cell_type": "code",
   "execution_count": null,
   "metadata": {},
   "outputs": [],
   "source": []
  },
  {
   "cell_type": "code",
   "execution_count": null,
   "metadata": {},
   "outputs": [],
   "source": []
  }
 ],
 "metadata": {
  "kernelspec": {
   "display_name": "R",
   "language": "R",
   "name": "ir"
  },
  "language_info": {
   "codemirror_mode": "r",
   "file_extension": ".r",
   "mimetype": "text/x-r-source",
   "name": "R",
   "pygments_lexer": "r",
   "version": "3.6.1"
  }
 },
 "nbformat": 4,
 "nbformat_minor": 4
}
